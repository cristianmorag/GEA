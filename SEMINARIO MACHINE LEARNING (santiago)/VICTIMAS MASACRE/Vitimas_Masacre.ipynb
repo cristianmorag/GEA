{
 "cells": [
  {
   "cell_type": "code",
   "execution_count": 2,
   "metadata": {},
   "outputs": [
    {
     "ename": "FileNotFoundError",
     "evalue": "[Errno 2] No such file or directory: 'VictimasMA_202309.xlsx'",
     "output_type": "error",
     "traceback": [
      "\u001b[1;31m---------------------------------------------------------------------------\u001b[0m",
      "\u001b[1;31mFileNotFoundError\u001b[0m                         Traceback (most recent call last)",
      "Cell \u001b[1;32mIn[2], line 7\u001b[0m\n\u001b[0;32m      5\u001b[0m archivo1 \u001b[38;5;241m=\u001b[39m \u001b[38;5;124m\"\u001b[39m\u001b[38;5;124mVictimasMA_202309.xlsx\u001b[39m\u001b[38;5;124m\"\u001b[39m\n\u001b[0;32m      6\u001b[0m archivo2 \u001b[38;5;241m=\u001b[39m \u001b[38;5;124m\"\u001b[39m\u001b[38;5;124mCasosMA_202309.xlsx\u001b[39m\u001b[38;5;124m\"\u001b[39m\n\u001b[1;32m----> 7\u001b[0m victimas_df\u001b[38;5;241m=\u001b[39m \u001b[43mpd\u001b[49m\u001b[38;5;241;43m.\u001b[39;49m\u001b[43mread_excel\u001b[49m\u001b[43m(\u001b[49m\u001b[43marchivo1\u001b[49m\u001b[43m)\u001b[49m\n\u001b[0;32m      8\u001b[0m casos_df\u001b[38;5;241m=\u001b[39m pd\u001b[38;5;241m.\u001b[39mread_excel(archivo2)\n",
      "File \u001b[1;32mc:\\Users\\morag\\AppData\\Local\\Programs\\Python\\Python311\\Lib\\site-packages\\pandas\\io\\excel\\_base.py:495\u001b[0m, in \u001b[0;36mread_excel\u001b[1;34m(io, sheet_name, header, names, index_col, usecols, dtype, engine, converters, true_values, false_values, skiprows, nrows, na_values, keep_default_na, na_filter, verbose, parse_dates, date_parser, date_format, thousands, decimal, comment, skipfooter, storage_options, dtype_backend, engine_kwargs)\u001b[0m\n\u001b[0;32m    493\u001b[0m \u001b[38;5;28;01mif\u001b[39;00m \u001b[38;5;129;01mnot\u001b[39;00m \u001b[38;5;28misinstance\u001b[39m(io, ExcelFile):\n\u001b[0;32m    494\u001b[0m     should_close \u001b[38;5;241m=\u001b[39m \u001b[38;5;28;01mTrue\u001b[39;00m\n\u001b[1;32m--> 495\u001b[0m     io \u001b[38;5;241m=\u001b[39m \u001b[43mExcelFile\u001b[49m\u001b[43m(\u001b[49m\n\u001b[0;32m    496\u001b[0m \u001b[43m        \u001b[49m\u001b[43mio\u001b[49m\u001b[43m,\u001b[49m\n\u001b[0;32m    497\u001b[0m \u001b[43m        \u001b[49m\u001b[43mstorage_options\u001b[49m\u001b[38;5;241;43m=\u001b[39;49m\u001b[43mstorage_options\u001b[49m\u001b[43m,\u001b[49m\n\u001b[0;32m    498\u001b[0m \u001b[43m        \u001b[49m\u001b[43mengine\u001b[49m\u001b[38;5;241;43m=\u001b[39;49m\u001b[43mengine\u001b[49m\u001b[43m,\u001b[49m\n\u001b[0;32m    499\u001b[0m \u001b[43m        \u001b[49m\u001b[43mengine_kwargs\u001b[49m\u001b[38;5;241;43m=\u001b[39;49m\u001b[43mengine_kwargs\u001b[49m\u001b[43m,\u001b[49m\n\u001b[0;32m    500\u001b[0m \u001b[43m    \u001b[49m\u001b[43m)\u001b[49m\n\u001b[0;32m    501\u001b[0m \u001b[38;5;28;01melif\u001b[39;00m engine \u001b[38;5;129;01mand\u001b[39;00m engine \u001b[38;5;241m!=\u001b[39m io\u001b[38;5;241m.\u001b[39mengine:\n\u001b[0;32m    502\u001b[0m     \u001b[38;5;28;01mraise\u001b[39;00m \u001b[38;5;167;01mValueError\u001b[39;00m(\n\u001b[0;32m    503\u001b[0m         \u001b[38;5;124m\"\u001b[39m\u001b[38;5;124mEngine should not be specified when passing \u001b[39m\u001b[38;5;124m\"\u001b[39m\n\u001b[0;32m    504\u001b[0m         \u001b[38;5;124m\"\u001b[39m\u001b[38;5;124man ExcelFile - ExcelFile already has the engine set\u001b[39m\u001b[38;5;124m\"\u001b[39m\n\u001b[0;32m    505\u001b[0m     )\n",
      "File \u001b[1;32mc:\\Users\\morag\\AppData\\Local\\Programs\\Python\\Python311\\Lib\\site-packages\\pandas\\io\\excel\\_base.py:1550\u001b[0m, in \u001b[0;36mExcelFile.__init__\u001b[1;34m(self, path_or_buffer, engine, storage_options, engine_kwargs)\u001b[0m\n\u001b[0;32m   1548\u001b[0m     ext \u001b[38;5;241m=\u001b[39m \u001b[38;5;124m\"\u001b[39m\u001b[38;5;124mxls\u001b[39m\u001b[38;5;124m\"\u001b[39m\n\u001b[0;32m   1549\u001b[0m \u001b[38;5;28;01melse\u001b[39;00m:\n\u001b[1;32m-> 1550\u001b[0m     ext \u001b[38;5;241m=\u001b[39m \u001b[43minspect_excel_format\u001b[49m\u001b[43m(\u001b[49m\n\u001b[0;32m   1551\u001b[0m \u001b[43m        \u001b[49m\u001b[43mcontent_or_path\u001b[49m\u001b[38;5;241;43m=\u001b[39;49m\u001b[43mpath_or_buffer\u001b[49m\u001b[43m,\u001b[49m\u001b[43m \u001b[49m\u001b[43mstorage_options\u001b[49m\u001b[38;5;241;43m=\u001b[39;49m\u001b[43mstorage_options\u001b[49m\n\u001b[0;32m   1552\u001b[0m \u001b[43m    \u001b[49m\u001b[43m)\u001b[49m\n\u001b[0;32m   1553\u001b[0m     \u001b[38;5;28;01mif\u001b[39;00m ext \u001b[38;5;129;01mis\u001b[39;00m \u001b[38;5;28;01mNone\u001b[39;00m:\n\u001b[0;32m   1554\u001b[0m         \u001b[38;5;28;01mraise\u001b[39;00m \u001b[38;5;167;01mValueError\u001b[39;00m(\n\u001b[0;32m   1555\u001b[0m             \u001b[38;5;124m\"\u001b[39m\u001b[38;5;124mExcel file format cannot be determined, you must specify \u001b[39m\u001b[38;5;124m\"\u001b[39m\n\u001b[0;32m   1556\u001b[0m             \u001b[38;5;124m\"\u001b[39m\u001b[38;5;124man engine manually.\u001b[39m\u001b[38;5;124m\"\u001b[39m\n\u001b[0;32m   1557\u001b[0m         )\n",
      "File \u001b[1;32mc:\\Users\\morag\\AppData\\Local\\Programs\\Python\\Python311\\Lib\\site-packages\\pandas\\io\\excel\\_base.py:1402\u001b[0m, in \u001b[0;36minspect_excel_format\u001b[1;34m(content_or_path, storage_options)\u001b[0m\n\u001b[0;32m   1399\u001b[0m \u001b[38;5;28;01mif\u001b[39;00m \u001b[38;5;28misinstance\u001b[39m(content_or_path, \u001b[38;5;28mbytes\u001b[39m):\n\u001b[0;32m   1400\u001b[0m     content_or_path \u001b[38;5;241m=\u001b[39m BytesIO(content_or_path)\n\u001b[1;32m-> 1402\u001b[0m \u001b[38;5;28;01mwith\u001b[39;00m \u001b[43mget_handle\u001b[49m\u001b[43m(\u001b[49m\n\u001b[0;32m   1403\u001b[0m \u001b[43m    \u001b[49m\u001b[43mcontent_or_path\u001b[49m\u001b[43m,\u001b[49m\u001b[43m \u001b[49m\u001b[38;5;124;43m\"\u001b[39;49m\u001b[38;5;124;43mrb\u001b[39;49m\u001b[38;5;124;43m\"\u001b[39;49m\u001b[43m,\u001b[49m\u001b[43m \u001b[49m\u001b[43mstorage_options\u001b[49m\u001b[38;5;241;43m=\u001b[39;49m\u001b[43mstorage_options\u001b[49m\u001b[43m,\u001b[49m\u001b[43m \u001b[49m\u001b[43mis_text\u001b[49m\u001b[38;5;241;43m=\u001b[39;49m\u001b[38;5;28;43;01mFalse\u001b[39;49;00m\n\u001b[0;32m   1404\u001b[0m \u001b[43m\u001b[49m\u001b[43m)\u001b[49m \u001b[38;5;28;01mas\u001b[39;00m handle:\n\u001b[0;32m   1405\u001b[0m     stream \u001b[38;5;241m=\u001b[39m handle\u001b[38;5;241m.\u001b[39mhandle\n\u001b[0;32m   1406\u001b[0m     stream\u001b[38;5;241m.\u001b[39mseek(\u001b[38;5;241m0\u001b[39m)\n",
      "File \u001b[1;32mc:\\Users\\morag\\AppData\\Local\\Programs\\Python\\Python311\\Lib\\site-packages\\pandas\\io\\common.py:882\u001b[0m, in \u001b[0;36mget_handle\u001b[1;34m(path_or_buf, mode, encoding, compression, memory_map, is_text, errors, storage_options)\u001b[0m\n\u001b[0;32m    873\u001b[0m         handle \u001b[38;5;241m=\u001b[39m \u001b[38;5;28mopen\u001b[39m(\n\u001b[0;32m    874\u001b[0m             handle,\n\u001b[0;32m    875\u001b[0m             ioargs\u001b[38;5;241m.\u001b[39mmode,\n\u001b[1;32m   (...)\u001b[0m\n\u001b[0;32m    878\u001b[0m             newline\u001b[38;5;241m=\u001b[39m\u001b[38;5;124m\"\u001b[39m\u001b[38;5;124m\"\u001b[39m,\n\u001b[0;32m    879\u001b[0m         )\n\u001b[0;32m    880\u001b[0m     \u001b[38;5;28;01melse\u001b[39;00m:\n\u001b[0;32m    881\u001b[0m         \u001b[38;5;66;03m# Binary mode\u001b[39;00m\n\u001b[1;32m--> 882\u001b[0m         handle \u001b[38;5;241m=\u001b[39m \u001b[38;5;28;43mopen\u001b[39;49m\u001b[43m(\u001b[49m\u001b[43mhandle\u001b[49m\u001b[43m,\u001b[49m\u001b[43m \u001b[49m\u001b[43mioargs\u001b[49m\u001b[38;5;241;43m.\u001b[39;49m\u001b[43mmode\u001b[49m\u001b[43m)\u001b[49m\n\u001b[0;32m    883\u001b[0m     handles\u001b[38;5;241m.\u001b[39mappend(handle)\n\u001b[0;32m    885\u001b[0m \u001b[38;5;66;03m# Convert BytesIO or file objects passed with an encoding\u001b[39;00m\n",
      "\u001b[1;31mFileNotFoundError\u001b[0m: [Errno 2] No such file or directory: 'VictimasMA_202309.xlsx'"
     ]
    }
   ],
   "source": [
    "import pandas as pd\n",
    "import numpy as np\n",
    "from unidecode import unidecode\n",
    "import matplotlib.pyplot as plt\n",
    "archivo1 = \"VictimasMA_202309.xlsx\"\n",
    "archivo2 = \"CasosMA_202309.xlsx\"\n",
    "victimas_df= pd.read_excel(archivo1)\n",
    "casos_df= pd.read_excel(archivo2)\n"
   ]
  },
  {
   "cell_type": "code",
   "execution_count": 19,
   "metadata": {},
   "outputs": [
    {
     "name": "stdout",
     "output_type": "stream",
     "text": [
      "Index(['id_caso', 'divipola', 'municipio', 'departamento', 'ano', 'mes', 'dia',\n",
      "       'id_persona', 'sexo', 'etnia', 'ocupacion', 'calidad_victima_',\n",
      "       'tipo_poblacion', 'militancia', 'grupo_armado', 'descrip_grupo_armado',\n",
      "       'edad', 'latitud', 'longitud'],\n",
      "      dtype='object')\n",
      "Index(['id_caso', 'id_caso_relacionado', 'ano', 'mes', 'dia', 'divipola',\n",
      "       'municipio', 'departamento', 'region', 'modalidad',\n",
      "       'presunto_responsable', 'presunto_grupo_respon',\n",
      "       'despojo_forzoso_tierras_', 'amenaza_intimidacion', 'ataque_medicos',\n",
      "       'restriccion_movilidad', 'desplazamiento_forzado', 'extorsion',\n",
      "       'lesionados_civiles', 'pillaje', 'tortura', 'vbg', 'hecho_simultaneo',\n",
      "       'total_victimas', 'tipo_de_armas', 'latitud', 'longitud'],\n",
      "      dtype='object')\n"
     ]
    }
   ],
   "source": [
    "def clean_columnms(cadena):\n",
    "    \"\"\"Funcion para limpiar las columnas de un dataframe\n",
    "\n",
    "    Args:\n",
    "        cadena (str): nombre de columnba\n",
    "\n",
    "    Returns:\n",
    "        str: columna nueva\n",
    "    \"\"\"\n",
    "    cadena = cadena.replace(\" \", \"_\").lower()\n",
    " \n",
    "    return cadena\n",
    "\n",
    "#Determinar las columnas de cada base de datos\n",
    "columns_victimas = victimas_df.columns\n",
    "columns_casos = casos_df.columns\n",
    "\n",
    "#Limpiamos los nombres de las columbas\n",
    "new_columns_victimas = [clean_columnms(columns_victimas) for columns_victimas in columns_victimas]\n",
    "new_columns_casos = [clean_columnms(columns_casos) for columns_casos in columns_casos]\n",
    "new_columns_victimas = [ unidecode(new_columns_victimas) for new_columns_victimas in new_columns_victimas] #quita las tildes, punto, etc\n",
    "new_columns_casos = [ unidecode(new_columns_casos) for new_columns_casos in new_columns_casos]\n",
    "\n",
    "victimas_df.columns = new_columns_victimas\n",
    "casos_df.columns = new_columns_casos\n",
    "\n",
    "print(victimas_df.columns)\n",
    "print(casos_df.columns)\n",
    "#print(pd.unique(casos_df['violencia_basada_en_genero']))\n",
    "#pd.unique(victimas_df['descripcion_fuerza_o_grupo_armado_organizado_al_que_pertenece_el_combatiente'])\n"
   ]
  },
  {
   "cell_type": "code",
   "execution_count": 20,
   "metadata": {},
   "outputs": [
    {
     "name": "stdout",
     "output_type": "stream",
     "text": [
      "Index(['id_caso', 'divipola', 'municipio', 'departamento', 'ano', 'mes', 'dia',\n",
      "       'id_persona', 'sexo', 'etnia', 'ocupacion', 'calidad_victima_',\n",
      "       'tipo_poblacion', 'militancia', 'grupo_armado', 'descrip_grupo_armado',\n",
      "       'edad', 'latitud', 'longitud'],\n",
      "      dtype='object')\n",
      "Index(['id_caso', 'id_caso_relacionado', 'ano', 'mes', 'dia', 'divipola',\n",
      "       'municipio', 'departamento', 'region', 'modalidad',\n",
      "       'presunto_responsable', 'presunto_grupo_respon',\n",
      "       'despojo_forzoso_tierras_', 'amenaza_intimidacion', 'ataque_medicos',\n",
      "       'restriccion_movilidad', 'desplazamiento_forzado', 'extorsion',\n",
      "       'lesionados_civiles', 'pillaje', 'tortura', 'vbg', 'hecho_simultaneo',\n",
      "       'total_victimas', 'tipo_de_armas', 'latitud', 'longitud'],\n",
      "      dtype='object')\n"
     ]
    }
   ],
   "source": [
    "victimas_df.rename(columns={  'codigo_dane_de_municipio':'divipola',\n",
    "                                     'calidad_de_la_victima_o_la_baja' : 'calidad_victima ',\n",
    "                                     'tipo_de_poblacion_vulnerable' : 'tipo_poblacion',\n",
    "                                     'militante_politico' : 'militancia',\n",
    "                                     'fuerza_o_grupo_armado_organizado_al_que_pertenece_el_combatiente': 'grupo_armado',\n",
    "                                     'descripcion_fuerza_o_grupo_armado_organizado_al_que_pertenece_el_combatiente':'descrip_grupo_armado',\n",
    "                                     'situacion_actual_de_la_victima': 'situacion_actual_vic'\n",
    "                                     \n",
    "                                     },inplace=True)\n",
    "victimas_df.columns\n",
    "\n",
    "\n",
    "casos_df.rename(columns={'codigo_dane_de_municipio':'divipola',\n",
    "                                     'abandono_o_despojo_forzado_de_tierras' : 'despojo_forzoso_tierras ',\n",
    "                                     'amenaza_o_intimidacion' : 'amenaza_intimidacion',\n",
    "                                     'confinamiento_o_restriccion_a_la_movilidad' : 'restriccion_movilidad',\n",
    "                                     'ataque_contra_mision_medica': 'ataque_medicos',\n",
    "                                     'descripcion_presunto_responsable':'presunto_grupo_respon',\n",
    "                                     'violencia_basada_en_genero': 'VBG',\n",
    "                                     'otro_hecho_simultaneo': 'hecho_simultaneo',\n",
    "                                     'total_de_victimas_del_caso':'total_victimas'\n",
    "                                     },inplace=True)\n",
    "\n",
    "victimas_df['divipola'] = pd.to_numeric(victimas_df['divipola'], errors='coerce')\n",
    "casos_df['divipola'] = pd.to_numeric(victimas_df['divipola'], errors='coerce')\n",
    "\n",
    "\n",
    "print(victimas_df.columns)\n",
    "print(casos_df.columns)\n",
    "\n",
    "#print(casos_df.tail(10).info())\n",
    "#print(casos_df.dtypes)\n"
   ]
  },
  {
   "cell_type": "code",
   "execution_count": null,
   "metadata": {},
   "outputs": [],
   "source": [
    "# Define a function to identify missing or placeholder values\n",
    "def identify_missing_or_placeholder(df):\n",
    "    # Placeholder values that might be considered as missing data\n",
    "    placeholders = [\"SIN INFORMACION\", \"DESCONOCIDO\", \"ND\", \"0\", 0, \"NaN\", \"\"]\n",
    "\n",
    "    missing_values = df.isnull().mean() * 100\n",
    "\n",
    "    placeholder_values = df.apply(lambda col: col.isin(placeholders).mean()) * 100\n",
    "\n",
    "    missing_info = pd.DataFrame({'missing_percentage': missing_values, 'placeholder_percentage': placeholder_values})\n",
    "    missing_info['total_impacted'] = missing_info.sum(axis=1)\n",
    "\n",
    "    return missing_info.sort_values(by='total_impacted', ascending=False)\n",
    "\n",
    "missing_info_casos = identify_missing_or_placeholder(casos_df)\n",
    "missing_info_victimas = identify_missing_or_placeholder(victimas_df)\n",
    "\n",
    "\n",
    "# Eliminar columnas con 95% missing/placeholder data de ambos archivos\n",
    "threshold_percentage = 95\n",
    "casos_df_cleaned = casos_df.drop(columns=missing_info_casos[missing_info_casos['total_impacted'] > threshold_percentage].index)\n",
    "victimas_df_cleaned = victimas_df.drop(columns=missing_info_victimas[missing_info_victimas['total_impacted'] > threshold_percentage].index)\n",
    "\n",
    "#Organizar datos que son marcados por defecto\n",
    "for column in ['ano', 'mes', 'dia']:\n",
    "    casos_df_cleaned[column] = np.where(casos_df_cleaned[column] == 0, pd.NA, casos_df_cleaned[column])\n",
    "    victimas_df_cleaned[column] = np.where(victimas_df_cleaned[column] == 0, pd.NA, victimas_df_cleaned[column])\n",
    "\n",
    "updated_info = {\n",
    "    \"Casos Dataset Shape\": casos_df_cleaned.shape,\n",
    "    \"Victimas Dataset Shape\": victimas_df_cleaned.shape,\n",
    "    \"Sample Año (Casos)\": casos_df_cleaned['ano'].dropna().unique()[:5],\n",
    "    \"Sample Año (Victimas)\": victimas_df_cleaned['ano'].dropna().unique()[:5]\n",
    "}\n",
    "\n",
    "casos_df_nodup = casos_df_cleaned.drop_duplicates(casos_df_cleaned.columns.difference(['id_caso']))\n",
    "victimas_df_nodup = victimas_df_cleaned.drop_duplicates(victimas_df_cleaned.columns.difference(['id_persona']))\n",
    "\n",
    "\n",
    "unique_modalidades = casos_df_nodup['modalidad'].unique()\n",
    "unique_deptos = casos_df_nodup['departamento'].unique()\n",
    "\n",
    "validation_info = {\n",
    "    \"Casos Dataset Shape Before\": casos_df_cleaned.shape,\n",
    "    \"Casos Dataset Shape After Duplicate Removal\": casos_df_nodup.shape,\n",
    "    \"Victimas Dataset Shape Before\": victimas_df_cleaned.shape,\n",
    "    \"Victimas Dataset Shape After Duplicate Removal\": victimas_df_nodup.shape,\n",
    "    \"Unique Modalidades\": unique_modalidades[:5],  # Display a sample for brevity\n",
    "    \"Unique Deptos\": unique_deptos[:5]\n",
    "}\n",
    "\n",
    "print(casos_df['ano'], missing_info_casos)\n"
   ]
  },
  {
   "cell_type": "code",
   "execution_count": 16,
   "metadata": {},
   "outputs": [
    {
     "name": "stdout",
     "output_type": "stream",
     "text": [
      "0       NaN\n",
      "1       NaN\n",
      "2       NaN\n",
      "3       NaN\n",
      "4       NaN\n",
      "       ... \n",
      "4319    NaN\n",
      "4320    NaN\n",
      "4321    NaN\n",
      "4322    NaN\n",
      "4323    NaN\n",
      "Name: VBG, Length: 4324, dtype: object\n"
     ]
    }
   ],
   "source": [
    "print(casos_df['VBG'])"
   ]
  },
  {
   "cell_type": "markdown",
   "metadata": {},
   "source": [
    "ANALSIS INICIAL EXPLORATORIO DE LOS DATOS: respondemos a las pregunta que tengamos"
   ]
  },
  {
   "cell_type": "code",
   "execution_count": null,
   "metadata": {},
   "outputs": [],
   "source": [
    "# casos por año\n",
    "cases_yearly = casos_df['ano'].value_counts().sort_index()\n",
    "#victimas por año\n",
    "victims_yearly = victimas_df['ano'].value_counts().sort_index()\n",
    "\n",
    "# dataframe a visualizar\n",
    "yearly_data = pd.DataFrame({\n",
    "    'Cases': cases_yearly,\n",
    "    'Victims': victims_yearly\n",
    "}).fillna(0)\n",
    "yearly_data=yearly_data.drop(0) #me tocó eliminar la fila cero\n",
    "print(yearly_data)\n",
    "# Visualization of yearly data\n",
    "plt.figure(figsize=(14, 7))\n",
    "plt.plot(yearly_data.index, yearly_data['Cases'], label='Cases', marker='o')\n",
    "plt.plot(yearly_data.index, yearly_data['Victims'], label='Victims', marker='x')\n",
    "plt.title('Yearly Counts of Cases and Victims')\n",
    "plt.xlabel('Year')\n",
    "plt.ylabel('Count')\n",
    "plt.legend()\n",
    "plt.grid(True)\n",
    "plt.xticks(rotation=45)\n",
    "plt.tight_layout()\n",
    "plt.show()"
   ]
  },
  {
   "cell_type": "code",
   "execution_count": null,
   "metadata": {},
   "outputs": [],
   "source": [
    "# Hay algun mes con mayor incidencia en masacres? \n",
    "\n",
    "casos_por_mes = casos_df.groupby('mes').size()\n",
    "\n",
    "print(\"Cantidad de casos registrados por mes:\")\n",
    "print(casos_por_mes)\n",
    "\n",
    "plt.figure(figsize=(10, 6))\n",
    "casos_por_mes.plot(kind='bar', color='skyblue')\n",
    "plt.title('Cantidad de casos registrados por mes')\n",
    "plt.xlabel('Mes')\n",
    "plt.ylabel('Cantidad de casos')\n",
    "plt.xticks(rotation=0)\n",
    "plt.grid(axis='y', linestyle='--', alpha=0.7)\n",
    "plt.show()"
   ]
  },
  {
   "cell_type": "code",
   "execution_count": null,
   "metadata": {},
   "outputs": [],
   "source": [
    "# Cuál es la mayo situación de VBG? \n",
    "casos_por_vbg = casos_df.groupby('VBG').size()\n",
    "\n",
    "print(\"Cantidad de casos VBG:\")\n",
    "print(casos_por_vbg)\n",
    "\n",
    "plt.figure(figsize=(10, 6))\n",
    "casos_por_mes.plot(kind='bar', color='skyblue')\n",
    "plt.title('Cantidad de casos VBG')\n",
    "plt.xlabel('Tipo')\n",
    "plt.ylabel('Cantidad de casos')\n",
    "plt.xticks(rotation=0)\n",
    "plt.grid(axis='y', linestyle='--', alpha=0.7)\n",
    "plt.show()"
   ]
  },
  {
   "cell_type": "code",
   "execution_count": null,
   "metadata": {},
   "outputs": [],
   "source": [
    "# Cuál caldiad de la victima a la baja? \n",
    "victimas_calidad = victimas_df.groupby('calidad_victima_').size()\n",
    "\n",
    "print(\"victimas_calidad:\")\n",
    "print(victimas_calidad)\n",
    "\n",
    "plt.figure(figsize=(10, 6))\n",
    "plt.pie(victimas_calidad, labels=victimas_calidad.index, autopct='%1.1f%%', startangle=140, colors=plt.cm.tab20.colors)\n",
    "plt.title('victimas_calidad')\n",
    "plt.xlabel('Tipo')\n",
    "plt.ylabel('Cantidad de casos')\n",
    "plt.xticks(rotation=0)\n",
    "plt.grid(axis='y', linestyle='--', alpha=0.7)\n",
    "plt.show()"
   ]
  },
  {
   "cell_type": "markdown",
   "metadata": {},
   "source": []
  },
  {
   "cell_type": "code",
   "execution_count": null,
   "metadata": {},
   "outputs": [],
   "source": [
    "# Cuál caldiad de la victima a la baja? \n",
    "victimas_calidad = victimas_df.groupby('calidad_victima_').size()\n",
    "\n",
    "print(\"victimas_calidad:\")\n",
    "print(victimas_calidad)\n",
    "\n",
    "plt.figure(figsize=(10, 6))\n",
    "plt.pie(victimas_calidad, labels=victimas_calidad.index, autopct='%1.1f%%', startangle=140, colors=plt.cm.tab20.colors)\n",
    "plt.title('victimas_calidad')\n",
    "plt.xlabel('Tipo')\n",
    "plt.ylabel('Cantidad de casos')\n",
    "plt.xticks(rotation=0)\n",
    "plt.grid(axis='y', linestyle='--', alpha=0.7)\n",
    "plt.show()"
   ]
  }
 ],
 "metadata": {
  "kernelspec": {
   "display_name": "Python 3",
   "language": "python",
   "name": "python3"
  },
  "language_info": {
   "codemirror_mode": {
    "name": "ipython",
    "version": 3
   },
   "file_extension": ".py",
   "mimetype": "text/x-python",
   "name": "python",
   "nbconvert_exporter": "python",
   "pygments_lexer": "ipython3",
   "version": "3.11.8"
  }
 },
 "nbformat": 4,
 "nbformat_minor": 2
}
